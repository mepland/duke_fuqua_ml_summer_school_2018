{
 "cells": [
  {
   "cell_type": "markdown",
   "metadata": {},
   "source": [
    "# TensorFlow Assignment: Multi-Layer Perceptron (MLP)"
   ]
  },
  {
   "cell_type": "markdown",
   "metadata": {},
   "source": [
    "**[Duke Community Standard](http://integrity.duke.edu/standard.html): By typing your name below, you are certifying that you have adhered to the Duke Community Standard in completing this assignment.**\n",
    "\n",
    "Name: Matthew Epland"
   ]
  },
  {
   "cell_type": "markdown",
   "metadata": {},
   "source": [
    "### Multi-layer Perceptron\n",
    "\n",
    "Build a 2-layer MLP for MNIST digit classfication. Feel free to play around with the model architecture and see how the training time/performance changes, but to begin, try the following:\n",
    "\n",
    "Image (784 dimensions) -> fully connected layer (500 hidden units) -> nonlinearity (ReLU) -> fully connected layer (100 hidden units) -> nonlinearity (ReLU) -> fully connected (10 hidden units) -> softmax"
   ]
  },
  {
   "cell_type": "markdown",
   "metadata": {},
   "source": [
    "### Imports"
   ]
  },
  {
   "cell_type": "code",
   "execution_count": 1,
   "metadata": {},
   "outputs": [],
   "source": [
    "import tensorflow as tf\n",
    "from tensorflow.examples.tutorials.mnist import input_data\n",
    "import numpy as np\n",
    "from tqdm import trange"
   ]
  },
  {
   "cell_type": "code",
   "execution_count": 2,
   "metadata": {},
   "outputs": [
    {
     "name": "stdout",
     "output_type": "stream",
     "text": [
      "WARNING:tensorflow:From <ipython-input-2-150ee052585e>:1: read_data_sets (from tensorflow.contrib.learn.python.learn.datasets.mnist) is deprecated and will be removed in a future version.\n",
      "Instructions for updating:\n",
      "Please use alternatives such as official/mnist/dataset.py from tensorflow/models.\n",
      "WARNING:tensorflow:From /home/mepland/.virtualenvs/fuquaml/lib/python2.7/site-packages/tensorflow/contrib/learn/python/learn/datasets/mnist.py:260: maybe_download (from tensorflow.contrib.learn.python.learn.datasets.base) is deprecated and will be removed in a future version.\n",
      "Instructions for updating:\n",
      "Please write your own downloading logic.\n",
      "WARNING:tensorflow:From /home/mepland/.virtualenvs/fuquaml/lib/python2.7/site-packages/tensorflow/contrib/learn/python/learn/datasets/mnist.py:262: extract_images (from tensorflow.contrib.learn.python.learn.datasets.mnist) is deprecated and will be removed in a future version.\n",
      "Instructions for updating:\n",
      "Please use tf.data to implement this functionality.\n",
      "Extracting MNIST_data/train-images-idx3-ubyte.gz\n",
      "WARNING:tensorflow:From /home/mepland/.virtualenvs/fuquaml/lib/python2.7/site-packages/tensorflow/contrib/learn/python/learn/datasets/mnist.py:267: extract_labels (from tensorflow.contrib.learn.python.learn.datasets.mnist) is deprecated and will be removed in a future version.\n",
      "Instructions for updating:\n",
      "Please use tf.data to implement this functionality.\n",
      "Extracting MNIST_data/train-labels-idx1-ubyte.gz\n",
      "WARNING:tensorflow:From /home/mepland/.virtualenvs/fuquaml/lib/python2.7/site-packages/tensorflow/contrib/learn/python/learn/datasets/mnist.py:110: dense_to_one_hot (from tensorflow.contrib.learn.python.learn.datasets.mnist) is deprecated and will be removed in a future version.\n",
      "Instructions for updating:\n",
      "Please use tf.one_hot on tensors.\n",
      "Extracting MNIST_data/t10k-images-idx3-ubyte.gz\n",
      "Extracting MNIST_data/t10k-labels-idx1-ubyte.gz\n",
      "WARNING:tensorflow:From /home/mepland/.virtualenvs/fuquaml/lib/python2.7/site-packages/tensorflow/contrib/learn/python/learn/datasets/mnist.py:290: __init__ (from tensorflow.contrib.learn.python.learn.datasets.mnist) is deprecated and will be removed in a future version.\n",
      "Instructions for updating:\n",
      "Please use alternatives such as official/mnist/dataset.py from tensorflow/models.\n"
     ]
    }
   ],
   "source": [
    "mnist = input_data.read_data_sets(\"MNIST_data/\", one_hot=True);"
   ]
  },
  {
   "cell_type": "markdown",
   "metadata": {},
   "source": [
    "### Setup the tf model"
   ]
  },
  {
   "cell_type": "markdown",
   "metadata": {},
   "source": [
    "Image (784 dimensions) -> fully connected layer (500 hidden units) -> nonlinearity (ReLU) -> fully connected layer (100 hidden units) -> nonlinearity (ReLU) -> fully connected (10 hidden units) -> softmax"
   ]
  },
  {
   "cell_type": "code",
   "execution_count": 3,
   "metadata": {},
   "outputs": [],
   "source": [
    "tf.reset_default_graph()\n",
    "\n",
    "# placeholders are input nodes in the graph, take in data from train/test set\n",
    "# are variable so we can pick our own mini batch size and feed it in\n",
    "X = tf.placeholder(tf.float32, [None,784]) # Image (784 dimensions)\n",
    "y = tf.placeholder(tf.float32, [None,10])\n",
    "\n",
    "# fully connected layer (500 hidden units) -> nonlinearity (ReLU)\n",
    "W_0 = tf.Variable(tf.truncated_normal([784, 500], stddev=0.1))\n",
    "b_0 = tf.Variable(tf.truncated_normal([500], stddev=0.1))\n",
    "scores_0 = tf.nn.relu(tf.matmul(X, W_0) + b_0)\n",
    "\n",
    "# fully connected layer (100 hidden units) -> nonlinearity (ReLU)\n",
    "W_1 = tf.Variable(tf.truncated_normal([500, 100], stddev=0.1))\n",
    "b_1 = tf.Variable(tf.truncated_normal([100], stddev=0.1))\n",
    "scores_1 = tf.nn.relu(tf.matmul(scores_0, W_1) + b_1)\n",
    "\n",
    "# fully connected layer (10 hidden units) -> nonlinearity (ReLU)\n",
    "W_2 = tf.Variable(tf.truncated_normal([100, 10], stddev=0.1))\n",
    "b_2 = tf.Variable(tf.truncated_normal([10], stddev=0.1))\n",
    "scores = tf.matmul(scores_1, W_2) + b_2\n",
    "\n",
    "# softmax and cross entropy (tf.nn.softmax_cross_entropy_with_logits is deprecated)\n",
    "loss = tf.nn.softmax_cross_entropy_with_logits_v2(logits=scores, labels=y)\n",
    "avg_loss = tf.reduce_mean(loss)\n",
    "\n",
    "# learning rate is 0.01\n",
    "train_step = tf.train.GradientDescentOptimizer(0.01).minimize(avg_loss)"
   ]
  },
  {
   "cell_type": "markdown",
   "metadata": {},
   "source": [
    "### Train model"
   ]
  },
  {
   "cell_type": "code",
   "execution_count": 4,
   "metadata": {},
   "outputs": [
    {
     "name": "stderr",
     "output_type": "stream",
     "text": [
      "100%|██████████| 50/50 [01:53<00:00,  2.28s/it]\n"
     ]
    }
   ],
   "source": [
    "sess = tf.Session()\n",
    "# sess.run(tf.initialize_all_variables()) # deprecated\n",
    "sess.run(tf.global_variables_initializer())\n",
    "\n",
    "# train in multiple epochs (50)\n",
    "for epoch in trange(50):\n",
    "    # sweep through all the training data in mini batchs of 100 images\n",
    "    for i in range(550):\n",
    "        start = i*100\n",
    "        end = (i+1)*100\n",
    "\n",
    "        # do one step of gradient descent\n",
    "        sess.run(train_step, feed_dict={X:mnist.train.images[start:end],\n",
    "                                        y:mnist.train.labels[start:end]})"
   ]
  },
  {
   "cell_type": "markdown",
   "metadata": {},
   "source": [
    "### Evaluate model"
   ]
  },
  {
   "cell_type": "code",
   "execution_count": 5,
   "metadata": {},
   "outputs": [
    {
     "name": "stdout",
     "output_type": "stream",
     "text": [
      "test avg loss = 0.09\n",
      "test accuracy = 97.22%\n"
     ]
    }
   ],
   "source": [
    "print('test avg loss = {0:.2f}'.format(sess.run(avg_loss, feed_dict={X:mnist.test.images, y:mnist.test.labels})))\n",
    "\n",
    "y_test_pred = sess.run(scores, feed_dict={X:mnist.test.images, y:mnist.test.labels})\n",
    "ncorrect = np.sum(np.argmax(y_test_pred, axis=1) == np.argmax(mnist.test.labels, axis=1))\n",
    "print('test accuracy = {0:.2f}%'.format(100*(float(ncorrect) / float(mnist.test.labels.shape[0]))))"
   ]
  },
  {
   "cell_type": "code",
   "execution_count": null,
   "metadata": {},
   "outputs": [],
   "source": []
  }
 ],
 "metadata": {
  "kernelspec": {
   "display_name": "Python 2",
   "language": "python",
   "name": "python2"
  },
  "language_info": {
   "codemirror_mode": {
    "name": "ipython",
    "version": 2
   },
   "file_extension": ".py",
   "mimetype": "text/x-python",
   "name": "python",
   "nbconvert_exporter": "python",
   "pygments_lexer": "ipython2",
   "version": "2.7.15"
  }
 },
 "nbformat": 4,
 "nbformat_minor": 2
}
